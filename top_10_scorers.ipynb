{
 "cells": [
  {
   "cell_type": "code",
   "execution_count": null,
   "id": "ec948cc9",
   "metadata": {},
   "outputs": [],
   "source": [
    "\n"
   ]
  },
  {
   "cell_type": "code",
   "execution_count": null,
   "id": "dddb8185",
   "metadata": {},
   "outputs": [],
   "source": []
  },
  {
   "cell_type": "code",
   "execution_count": 19,
   "id": "98ac74b6",
   "metadata": {},
   "outputs": [
    {
     "name": "stdout",
     "output_type": "stream",
     "text": [
      "1. Taranjeet Singh - Strike Rate: 176.44\n",
      "2. Zeeshan Kukikhel - Strike Rate: 175.97\n",
      "3. Suryakumar Yadav - Strike Rate: 175.45\n",
      "4. Saber Zakhil - Strike Rate: 174.39\n",
      "5. Sarfaraz Ali - Strike Rate: 168.34\n",
      "6. Ramesh Satheesan - Strike Rate: 166.6\n",
      "7. Jimmy Neesham - Strike Rate: 166.36\n",
      "8. Heinrich Gericke - Strike Rate: 163.93\n",
      "9. Rayyan Pathan - Strike Rate: 161.32\n",
      "10. Ravija Sandaruwan - Strike Rate: 160.14\n"
     ]
    }
   ],
   "source": [
    "import requests\n",
    "from bs4 import BeautifulSoup\n",
    "\n",
    "def top_10_scorers():\n",
    "    url = \"https://www.mpl.live/blog/highest-strike-rate-in-t20-cricket/\" \n",
    "\n",
    "   \n",
    "    response = requests.get(url)\n",
    "\n",
    "    if response.status_code == 200:\n",
    "        soup = BeautifulSoup(response.content, \"html.parser\")\n",
    "\n",
    "        \n",
    "        figure = soup.find('figure', {'class': 'wp-block-table'})\n",
    "        table = figure.find('table')\n",
    "\n",
    "        players = []\n",
    "        strike_rates = []\n",
    "\n",
    "        \n",
    "        rows = table.find_all(\"tr\")[1:11]  \n",
    "        for row in rows:\n",
    "            columns = row.find_all(\"td\")\n",
    "            players.append(columns[0].text.strip())\n",
    "            strike_rates.append(float(columns[6].text.strip()))\n",
    "\n",
    "        \n",
    "        sorted_data = sorted(zip(players, strike_rates), key=lambda x: x[1], reverse=True)\n",
    "\n",
    "        \n",
    "        for i, (player, strike_rate) in enumerate(sorted_data, start=1):\n",
    "            print(f\"{i}. {player} - Strike Rate: {strike_rate}\")\n",
    "    else:\n",
    "        print(\"Failed to retrieve data. Please check the URL or try again later.\")\n",
    "\n",
    "\n",
    "top_10_scorers()\n"
   ]
  },
  {
   "cell_type": "code",
   "execution_count": null,
   "id": "0de6b94d",
   "metadata": {},
   "outputs": [],
   "source": []
  }
 ],
 "metadata": {
  "kernelspec": {
   "display_name": "Python 3 (ipykernel)",
   "language": "python",
   "name": "python3"
  },
  "language_info": {
   "codemirror_mode": {
    "name": "ipython",
    "version": 3
   },
   "file_extension": ".py",
   "mimetype": "text/x-python",
   "name": "python",
   "nbconvert_exporter": "python",
   "pygments_lexer": "ipython3",
   "version": "3.10.9"
  }
 },
 "nbformat": 4,
 "nbformat_minor": 5
}
